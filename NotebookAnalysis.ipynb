{
 "cells": [
  {
   "cell_type": "code",
   "execution_count": 1,
   "metadata": {
    "collapsed": false
   },
   "outputs": [],
   "source": [
    "%matplotlib inline\n",
    "import CElegansFull_Notebook as CE\n",
    "import numpy as np"
   ]
  },
  {
   "cell_type": "code",
   "execution_count": 2,
   "metadata": {
    "collapsed": true
   },
   "outputs": [],
   "source": [
    "input_Mask = np.zeros(CE.N)\n",
    "ablation_Array = np.ones(CE.N, dtype = 'bool')"
   ]
  },
  {
   "cell_type": "code",
   "execution_count": 3,
   "metadata": {
    "collapsed": false
   },
   "outputs": [],
   "source": [
    "ablation_Array[242] = False\n",
    "ablation_Array[246] = False"
   ]
  },
  {
   "cell_type": "code",
   "execution_count": 4,
   "metadata": {
    "collapsed": false
   },
   "outputs": [],
   "source": [
    "input_Mask[210] = 0.25\n",
    "input_Mask[209] = 0.25\n",
    "input_Mask[180] = 0.1\n",
    "input_Mask[187] = 0.1\n",
    "input_Mask[198] = 0.1\n",
    "input_Mask[206] = 0.1\n",
    "input_Mask[208] = 0.1"
   ]
  },
  {
   "cell_type": "code",
   "execution_count": 5,
   "metadata": {
    "collapsed": true
   },
   "outputs": [],
   "source": [
    "FWD_index_Array_VB = np.asarray([150, 138, 170, 179, 186])\n",
    "FWD_index_Array_DB =np.asarray([164, 152, 172, 188, 203])\n",
    "BWD_index_Array_VA =  np.asarray([160, 169, 177, 185, 191])\n",
    "BWD_index_Array_DA = np.asarray([167, 173, 184, 194, 207])\n",
    "VC01 = np.asarray([180])\n",
    "VC02 = np.asarray([187])\n",
    "VC03 = np.asarray([198])\n",
    "VC04 = np.asarray([206])\n",
    "VC05 = np.asarray([208])\n",
    "HSNR = np.asarray([209])\n",
    "HSNL = np.asarray([210])"
   ]
  },
  {
   "cell_type": "code",
   "execution_count": 6,
   "metadata": {
    "collapsed": false
   },
   "outputs": [],
   "source": [
    "CE.modify_Connectome(ablation_Array)"
   ]
  },
  {
   "cell_type": "code",
   "execution_count": 7,
   "metadata": {
    "collapsed": false
   },
   "outputs": [
    {
     "name": "stderr",
     "output_type": "stream",
     "text": [
      "CElegansFull_Notebook.py:138: RuntimeWarning: overflow encountered in exp\n",
      "  np.reciprocal(1.0 + np.exp(-B*(np.subtract(Vvec, Vth)))))\n"
     ]
    }
   ],
   "source": [
    "(t, data, t_comp) = CE.run_Network(CE.Neuron, 0, 2, 0.01, input_Mask, 1e-3)"
   ]
  },
  {
   "cell_type": "code",
   "execution_count": null,
   "metadata": {
    "collapsed": false
   },
   "outputs": [],
   "source": [
    "CE.plot_Colormap(data)"
   ]
  },
  {
   "cell_type": "code",
   "execution_count": null,
   "metadata": {
    "collapsed": false
   },
   "outputs": [],
   "source": [
    "CE.plot_DominantModes(data, t)"
   ]
  },
  {
   "cell_type": "code",
   "execution_count": 8,
   "metadata": {
    "collapsed": false
   },
   "outputs": [
    {
     "data": {
      "image/png": "[encoded data removed]",
      "text/plain": [
       "<matplotlib.figure.Figure at 0x8b2cba8>"
      ]
     },
     "metadata": {},
     "output_type": "display_data"
    }
   ],
   "source": [
    "CE.plot_Neurons_Voltage(data, t, VC05)"
   ]
  }
 ],
 "metadata": {
  "anaconda-cloud": {},
  "kernelspec": {
   "display_name": "Python [Root]",
   "language": "python",
   "name": "Python [Root]"
  },
  "language_info": {
   "codemirror_mode": {
    "name": "ipython",
    "version": 2
   },
   "file_extension": ".py",
   "mimetype": "text/x-python",
   "name": "python",
   "nbconvert_exporter": "python",
   "pygments_lexer": "ipython2",
   "version": "2.7.12"
  }
 },
 "nbformat": 4,
 "nbformat_minor": 0
}
